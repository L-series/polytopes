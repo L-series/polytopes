{
 "cells": [
  {
   "cell_type": "code",
   "execution_count": 1,
   "metadata": {},
   "outputs": [],
   "source": [
    "#pip install polytope\n"
   ]
  },
  {
   "cell_type": "code",
   "execution_count": 2,
   "metadata": {},
   "outputs": [],
   "source": [
    "#pip install pypoman"
   ]
  },
  {
   "cell_type": "code",
   "execution_count": 16,
   "metadata": {},
   "outputs": [],
   "source": [
    "# pip install polytope\n",
    "# pip install pypoman\n",
    "\n",
    "import math\n",
    "import numpy as np\n",
    "from sympy.geometry import Point\n",
    "import matplotlib.pyplot as plt\n",
    "from pypoman import compute_polytope_halfspaces, compute_polytope_vertices\n",
    "from pypoman.duality import convex_hull\n",
    "import cdd\n",
    "from polytope import polytope\n",
    "from polytope.polytope import enumerate_integral_points, qhull, box2poly\n",
    "from scipy.spatial import ConvexHull"
   ]
  },
  {
   "cell_type": "markdown",
   "metadata": {},
   "source": [
    "Let's construct a reflexive 3D polytope"
   ]
  },
  {
   "cell_type": "code",
   "execution_count": 26,
   "metadata": {},
   "outputs": [],
   "source": [
    "vertices = np.array([[-1, -2,  2], [ 1,  2, -2], [-3, -2,  0], [ 1,  2, -3], [ 0, -1,  2]])"
   ]
  },
  {
   "cell_type": "code",
   "execution_count": 31,
   "metadata": {},
   "outputs": [
    {
     "name": "stdout",
     "output_type": "stream",
     "text": [
      "[[-1.   1.   1. ]\n",
      " [ 2.  -3.5 -2. ]\n",
      " [ 5.  -5.  -2. ]\n",
      " [ 3.  -1.   0. ]\n",
      " [-1.   1.  -0. ]\n",
      " [-5.   7.   4. ]]\n",
      "[1. 1. 1. 1. 1. 1.]\n"
     ]
    }
   ],
   "source": [
    "A, b = compute_polytope_halfspaces(V)\n",
    "\n",
    "print(A)\n",
    "print(b)"
   ]
  },
  {
   "cell_type": "markdown",
   "metadata": {},
   "source": [
    "Pypoman provides a form $0\\le -Ax+b$"
   ]
  },
  {
   "cell_type": "code",
   "execution_count": 5,
   "metadata": {},
   "outputs": [
    {
     "name": "stdout",
     "output_type": "stream",
     "text": [
      "[[-1.   1.   1. ]\n",
      " [ 2.  -3.5 -2. ]\n",
      " [ 5.  -5.  -2. ]\n",
      " [ 3.  -1.   0. ]\n",
      " [-1.   1.  -0. ]\n",
      " [-5.   7.   4. ]]\n",
      "[1. 1. 1. 1. 1. 1.]\n",
      "[array([ 1.,  2., -3.]), array([-1., -2.,  2.]), array([ 1.,  2., -2.]), array([-0., -1.,  2.]), array([-3., -2.,  0.])]\n",
      "[array([-1, -2,  2]), array([ 1,  2, -2]), array([-3, -2,  0]), array([ 1,  2, -3]), array([ 0, -1,  2])]\n"
     ]
    }
   ],
   "source": [
    "A, b = compute_polytope_halfspaces(V)\n",
    "\n",
    "print(A)\n",
    "print(b)\n",
    "\n",
    "print(compute_polytope_vertices(A, b))\n",
    "print(convex_hull(V))"
   ]
  },
  {
   "cell_type": "code",
   "execution_count": 14,
   "metadata": {},
   "outputs": [
    {
     "name": "stdout",
     "output_type": "stream",
     "text": [
      "integral_points: [[-3, -2, 0], [-2, -2, 1], [-1, -2, 2], [0, -1, 2], [-1, 0, -1], [0, 0, 0], [0, 1, -2], [1, 2, -3], [1, 2, -2]]\n",
      "stricktly_integral_points: [[0, -1, 2], [0, 0, 0]]\n",
      "b: [1. 1. 1. 1. 1. 1.]\n",
      "fitness value: -1.0\n"
     ]
    }
   ],
   "source": [
    "A, b = compute_polytope_halfspaces(V)\n",
    "\n",
    "def grid_region(polyreg, res=None):\n",
    "    # grid corners\n",
    "    bbox = polyreg.bounding_box\n",
    "    # grid resolution\n",
    "    if res is None:\n",
    "        density = 8\n",
    "        res = [\n",
    "            math.ceil(density * (b - a))\n",
    "            for a, b in zip(*bbox)]\n",
    "    if len(res) != polyreg.dim:\n",
    "        raise ValueError((\n",
    "            \"`len(res)` must equal the polytope's dimension \"\n",
    "            \"(which is {dim}), but instead `res` is:  {res}\"\n",
    "            ).format(dim=polyreg.dim, res=res))\n",
    "    if any(n < 1 for n in res):\n",
    "        raise ValueError((\n",
    "            '`res` must contain `int` values >= 1, '\n",
    "            'instead `res` equals:  {res}'\n",
    "            ).format(res=res))\n",
    "    linspaces = list()\n",
    "    for a, b, n in zip(*bbox, res):\n",
    "        r = np.linspace(a, b, num=n)\n",
    "        linspaces.append(r)\n",
    "    points = np.meshgrid(*linspaces)\n",
    "    x = np.vstack(list(map(np.ravel, points)))\n",
    "    x = x[:, polyreg.contains(x, abs_tol=0)]\n",
    "    return (x, res)\n",
    "\n",
    "def enumerate_stricktly_integral_points(poly):\n",
    "    a, b = poly.bounding_box\n",
    "    a_int = np.floor(a)\n",
    "    b_int = np.ceil(b)\n",
    "    intervals = list(zip(a_int.flatten(), b_int.flatten()))\n",
    "    box = box2poly(intervals)\n",
    "    res = [int(b - a + 1) for a, b in intervals]\n",
    "    grid, _ = grid_region(box, res=res)\n",
    "    inside = poly.contains(grid, abs_tol=0)\n",
    "    return grid[:, inside]\n",
    "\n",
    "integral_points = enumerate_integral_points(poly_qhull)\n",
    "integral_points = integral_points.transpose()\n",
    "integral_points = integral_points.astype(int)\n",
    "\n",
    "stricktly_integral_points = enumerate_stricktly_integral_points(poly_qhull)\n",
    "stricktly_integral_points = stricktly_integral_points.transpose()\n",
    "stricktly_integral_points = stricktly_integral_points.astype(int)\n",
    "num_stricktly_integral_points = len(stricktly_integral_points)\n",
    "\n",
    "print(\"integral_points: {0}\".format(integral_points.tolist()))\n",
    "print(\"stricktly_integral_points: {0}\".format(stricktly_integral_points.tolist()))\n",
    "print(\"b: {0}\".format(b))\n",
    "\n",
    "def fitness(ip_count, distances):\n",
    "    result = 0\n",
    "    if ip_count > 1:\n",
    "        result -= 1\n",
    "    for d in distances:\n",
    "        result -= abs(d-1)\n",
    "    return result\n",
    "\n",
    "print(\"fitness value: {0}\".format(fitness(num_stricktly_integral_points, b)))"
   ]
  },
  {
   "cell_type": "markdown",
   "metadata": {},
   "source": [
    "Some experimental stuff starts here:"
   ]
  },
  {
   "cell_type": "markdown",
   "metadata": {},
   "source": [
    "# GA TEST"
   ]
  },
  {
   "cell_type": "code",
   "execution_count": 7,
   "metadata": {},
   "outputs": [],
   "source": [
    "import math\n",
    "import numpy as np\n",
    "from sympy.geometry import Point\n",
    "import matplotlib.pyplot as plt\n",
    "from pypoman import compute_polytope_halfspaces, compute_polytope_vertices\n",
    "from pypoman.duality import convex_hull\n",
    "from polytope import polytope\n",
    "from polytope.polytope import enumerate_integral_points, qhull, box2poly\n",
    "from scipy.spatial import ConvexHull\n",
    "\n",
    "\n",
    "class Population:\n",
    "    def __init__(self, number_of_generations, generation_0):\n",
    "        generation_0 = generation_0\n",
    "        number_of_generations = number_of_generations\n",
    "\n",
    "class Generation:\n",
    "    def __init__(self, chrom_list):\n",
    "        chrom_list = chrom_list\n",
    "\n",
    "\n",
    "class Chromosom:\n",
    "    def grid_region(polyreg, res=None):\n",
    "        # grid corners\n",
    "        bbox = polyreg.bounding_box\n",
    "        # grid resolution\n",
    "        if res is None:\n",
    "            density = 8\n",
    "            res = [\n",
    "                math.ceil(density * (b - a))\n",
    "                for a, b in zip(*bbox)]\n",
    "        if len(res) != polyreg.dim:\n",
    "            raise ValueError((\n",
    "                \"`len(res)` must equal the polytope's dimension \"\n",
    "                \"(which is {dim}), but instead `res` is:  {res}\"\n",
    "                ).format(dim=polyreg.dim, res=res))\n",
    "        if any(n < 1 for n in res):\n",
    "            raise ValueError((\n",
    "                '`res` must contain `int` values >= 1, '\n",
    "                'instead `res` equals:  {res}'\n",
    "                ).format(res=res))\n",
    "        linspaces = list()\n",
    "        for a, b, n in zip(*bbox, res):\n",
    "            r = np.linspace(a, b, num=n)\n",
    "            linspaces.append(r)\n",
    "        points = np.meshgrid(*linspaces)\n",
    "        x = np.vstack(list(map(np.ravel, points)))\n",
    "        x = x[:, polyreg.contains(x, abs_tol=0)]\n",
    "        return (x, res)\n",
    "    \n",
    "    def enumerate_stricktly_integral_points(poly):\n",
    "        a, b = poly.bounding_box\n",
    "        a_int = np.floor(a)\n",
    "        b_int = np.ceil(b)\n",
    "        intervals = list(zip(a_int.flatten(), b_int.flatten()))\n",
    "        box = box2poly(intervals)\n",
    "        res = [int(b - a + 1) for a, b in intervals]\n",
    "        grid, _ = Chromosom.grid_region(box, res=res)\n",
    "        inside = poly.contains(grid, abs_tol=0)\n",
    "        return grid[:, inside]\n",
    "    \n",
    "    def gen_strictly_integral_points(q_hull):\n",
    "        integral_points = enumerate_integral_points(q_hull)\n",
    "        integral_points = integral_points.transpose()\n",
    "        integral_points = integral_points.astype(int)\n",
    "\n",
    "        stricktly_integral_points = Chromosom.enumerate_stricktly_integral_points(q_hull)\n",
    "        stricktly_integral_points = stricktly_integral_points.transpose()\n",
    "        stricktly_integral_points = stricktly_integral_points.astype(int)\n",
    "        num_stricktly_integral_points = len(stricktly_integral_points)\n",
    "        return num_stricktly_integral_points\n",
    "    \n",
    "    def calc_fitness(ip_count, distances):\n",
    "        result = 0\n",
    "        if ip_count > 1:\n",
    "            result -= 1\n",
    "        for d in distances:\n",
    "            result -= abs(d-1)\n",
    "        \n",
    "        #print(result)\n",
    "        return result    \n",
    "    \n",
    "    \n",
    "    \n",
    "    def __init__(self, points):\n",
    "        self.gen_list = points\n",
    "        self.q_hull = qhull(self.gen_list)\n",
    "        self.A, self.b_half_space = compute_polytope_halfspaces(self.gen_list)\n",
    "\n",
    "        self.num_stricktly_integral_points = Chromosom.gen_strictly_integral_points(self.q_hull)\n",
    "\n",
    "        self.fitness = Chromosom.calc_fitness(self.num_stricktly_integral_points, self.b_half_space)\n",
    "        #print(fitness)\n",
    "\n",
    "    # def get_q_hull(self):\n",
    "    #     return self.q_hull\n",
    "\n",
    "    # def get_b_half_space(self):\n",
    "    #     return self. b_half_space\n",
    "    \n",
    "    def get_gen_list(self):\n",
    "        return self.gen_list\n",
    "    \n",
    "    def get_fitness(self):\n",
    "        return self.fitness\n",
    "\n",
    "    \n",
    "        \n"
   ]
  },
  {
   "cell_type": "code",
   "execution_count": 8,
   "metadata": {},
   "outputs": [],
   "source": [
    "import random\n",
    "from random import randint\n",
    "\n",
    "num_points_per_polygon = 5\n",
    "num_points_per_Generation = 10\n",
    "\n",
    "test_points = []\n",
    "test_polygons = []\n",
    "\n",
    "for j in range(0, num_points_per_Generation):\n",
    "    for i in range(0,num_points_per_polygon):\n",
    "        test_points.append(random.sample(range(-3, 3), 3))\n",
    "    chromosome_test_points = np.array(test_points)\n",
    "\n",
    "    chromosom_test = Chromosom(chromosome_test_points)\n",
    "\n",
    "    test_polygons.append(chromosom_test)\n",
    "\n",
    "#print(test_polygons)"
   ]
  },
  {
   "cell_type": "code",
   "execution_count": 9,
   "metadata": {},
   "outputs": [
    {
     "name": "stdout",
     "output_type": "stream",
     "text": [
      "-9.0\n",
      "-61.166666666666664\n",
      "-89.33333333333334\n",
      "-94.44444444444446\n",
      "-139.1666666666667\n",
      "-145.66666666666674\n",
      "-147.5\n",
      "-155.16666666666669\n",
      "-163.1666666666667\n",
      "-164.5\n"
     ]
    }
   ],
   "source": [
    "\n",
    "test_polygons.sort(key=lambda x: x.fitness, reverse=True)\n",
    "\n",
    "for i in test_polygons:\n",
    "    print(i.get_fitness())\n",
    "\n",
    "\n",
    "# a = [1,2]\n",
    "# b = []\n",
    "# b.append(a[0])\n",
    "# b.append(a[1])\n",
    "# a[1] = 5\n",
    "\n",
    "# print(b)\n",
    "    "
   ]
  },
  {
   "cell_type": "code",
   "execution_count": 10,
   "metadata": {},
   "outputs": [],
   "source": [
    "import numpy as np\n",
    "import polytope\n",
    "\n",
    "# halfspace representation computed using `polytope`\n",
    "# from the vertex representation given in the question\n",
    "vertices = np.array([[0, -1], [-1, 0], [-1, 2], [1, 0], [1, -1]])\n",
    "poly = polytope.qhull(vertices)\n",
    "# first halfspace representation\n",
    "A = np.array([\n",
    "    [0, -1],\n",
    "    [-1, 0],\n",
    "    [-1, -1],\n",
    "    [1, 1],\n",
    "    [1, 0]])\n",
    "b = np.array([1, 1, 1, 1, 1])\n",
    "question_poly_1 = polytope.Polytope(A, b)\n",
    "# second halfspace representation\n",
    "A = np.array([\n",
    "    [-0.70711, -0.70711],\n",
    "    [-1, -0],\n",
    "    [0.70711, 0.70711],\n",
    "    [0, -1],\n",
    "    [1, 0]])\n",
    "b = np.array([0.70711, 1, 0.70711, 1, 1])\n",
    "\n",
    "question_poly_2 = polytope.Polytope(A, b)\n",
    "# check that all the above halfspace representations\n",
    "# represent the same polytope\n",
    "assert poly == question_poly_1, (poly, question_poly_1)\n",
    "assert poly == question_poly_2, (poly, question_poly_2)"
   ]
  },
  {
   "cell_type": "code",
   "execution_count": 11,
   "metadata": {},
   "outputs": [
    {
     "name": "stdout",
     "output_type": "stream",
     "text": [
      "[-0.70711]\n",
      "[-0.70711]\n",
      "[-1.]\n"
     ]
    }
   ],
   "source": [
    "inner_point = np.array([0,0]) # in this case it is the origin\n",
    "fac1 = polytope.quickhull.Facet([[0, -1], [-1, 0]])\n",
    "fac2 = polytope.quickhull.Facet([[-1, 2], [1, 0]])\n",
    "fac3 = polytope.quickhull.Facet([[1, -1], [0, -1]])\n",
    "\n",
    "d1 = polytope.quickhull.distance(inner_point, fac1)\n",
    "d2 = polytope.quickhull.distance(inner_point, fac2)\n",
    "d3 = polytope.quickhull.distance(inner_point, fac3)\n",
    "print(d1)\n",
    "print(d2)\n",
    "print(d3)"
   ]
  },
  {
   "cell_type": "markdown",
   "metadata": {},
   "source": [
    "Let's visualize our 2D polytope. For this purpose we use the [Polytope Library](https://github.com/tulip-control/polytope)"
   ]
  },
  {
   "cell_type": "code",
   "execution_count": 12,
   "metadata": {},
   "outputs": [],
   "source": [
    "# project into 2D\n",
    "\n"
   ]
  },
  {
   "cell_type": "code",
   "execution_count": 13,
   "metadata": {},
   "outputs": [
    {
     "ename": "NameError",
     "evalue": "name 'P' is not defined",
     "output_type": "error",
     "traceback": [
      "\u001b[1;31m---------------------------------------------------------------------------\u001b[0m",
      "\u001b[1;31mNameError\u001b[0m                                 Traceback (most recent call last)",
      "Cell \u001b[1;32mIn[13], line 1\u001b[0m\n\u001b[1;32m----> 1\u001b[0m \u001b[38;5;28mprint\u001b[39m(polytope\u001b[38;5;241m.\u001b[39mpolytope\u001b[38;5;241m.\u001b[39mcheby_ball(P))\n\u001b[0;32m      3\u001b[0m min_V \u001b[38;5;241m=\u001b[39m np\u001b[38;5;241m.\u001b[39mmin(V, axis\u001b[38;5;241m=\u001b[39m\u001b[38;5;241m0\u001b[39m) \u001b[38;5;66;03m#min val of each cols\u001b[39;00m\n\u001b[0;32m      4\u001b[0m min_x \u001b[38;5;241m=\u001b[39m min_V[\u001b[38;5;241m0\u001b[39m]\n",
      "\u001b[1;31mNameError\u001b[0m: name 'P' is not defined"
     ]
    }
   ],
   "source": [
    "\n",
    "print(polytope.polytope.cheby_ball(P))\n",
    "\n",
    "min_V = np.min(V, axis=0) #min val of each cols\n",
    "min_x = min_V[0]\n",
    "min_y = min_V[1]\n",
    "max_V = np.max(V, axis=0) #max val of each cols\n",
    "max_x = max_V[0]\n",
    "max_y = max_V[1]\n",
    "\n",
    "ax = P.plot(linestyle=\"solid\", linewidth=1, color=\"lightblue\", edgecolor=\"red\")\n",
    "ax.set_xlim([min_x-1, max_x+1])\n",
    "ax.set_ylim([min_y-1, max_y+1])\n",
    "plt.show()"
   ]
  }
 ],
 "metadata": {
  "kernelspec": {
   "display_name": "base",
   "language": "python",
   "name": "python3"
  },
  "language_info": {
   "codemirror_mode": {
    "name": "ipython",
    "version": 3
   },
   "file_extension": ".py",
   "mimetype": "text/x-python",
   "name": "python",
   "nbconvert_exporter": "python",
   "pygments_lexer": "ipython3",
   "version": "3.11.6"
  },
  "orig_nbformat": 4
 },
 "nbformat": 4,
 "nbformat_minor": 2
}

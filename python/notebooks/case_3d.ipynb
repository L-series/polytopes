{
 "cells": [
  {
   "cell_type": "code",
   "execution_count": 1,
   "metadata": {},
   "outputs": [],
   "source": [
    "import numpy as np\n",
    "from fractions import Fraction\n",
    "import cdd\n",
    "from polytope import polytope\n",
    "from polytope.polytope import qhull\n",
    "from scipy.spatial import ConvexHull"
   ]
  },
  {
   "cell_type": "markdown",
   "metadata": {},
   "source": [
    "Let's construct a reflexive 3D polytope"
   ]
  },
  {
   "cell_type": "code",
   "execution_count": 2,
   "metadata": {},
   "outputs": [],
   "source": [
    "V = np.array([[-1, -2,  2], [ 1,  2, -2], [-3, -2,  0], [ 1,  2, -3], [ 0, -1,  2]])"
   ]
  },
  {
   "cell_type": "code",
   "execution_count": 7,
   "metadata": {},
   "outputs": [
    {
     "name": "stdout",
     "output_type": "stream",
     "text": [
      "integral_points: [[0, 0, 0]]\n",
      "distance vector: [1 2 1 1 1 1]\n",
      "fitness: -2\n"
     ]
    }
   ],
   "source": [
    "#code based on https://github.com/stephane-caron/pypoman/blob/master/pypoman/duality.py\n",
    "def compute_distances(vertices: np.ndarray) -> np.ndarray:\n",
    "    V = np.vstack(vertices)\n",
    "    t = np.ones((V.shape[0], 1))  # first column is 1 for vertices\n",
    "    tV = np.hstack([t, V])\n",
    "    mat = cdd.Matrix(tV, number_type=\"fraction\")\n",
    "    mat.rep_type = cdd.RepType.GENERATOR\n",
    "    P = cdd.Polyhedron(mat)\n",
    "    bA = np.array(P.get_inequalities())\n",
    "    if bA.shape == (0,):  # bA == []\n",
    "        return bA\n",
    "    # the polyhedron is given by b + A x >= 0 where bA = [b|A]\n",
    "    b = bA[:, 0]\n",
    "    A = -np.array(bA[:, 1:])\n",
    "\n",
    "    for i, row in enumerate(A):\n",
    "        denominators = []\n",
    "        has_fraction = False\n",
    "        for j in row:\n",
    "            if type(j) == Fraction:\n",
    "                has_fraction = True\n",
    "                denominators.append(j.denominator)    \n",
    "        if has_fraction:\n",
    "            b[i] *= np.lcm.reduce(denominators)\n",
    "    return b\n",
    "\n",
    "def calc_fitness(vertices):\n",
    "    ip_count = len(polytope.enumerate_integral_points(qhull(vertices)))\n",
    "    distances = compute_distances(vertices)\n",
    "    result = 0\n",
    "    if ip_count > 1:\n",
    "        result -= 1\n",
    "    for d in distances:\n",
    "        result -= abs(d-1)\n",
    "    return result\n",
    "\n",
    "integral_points = polytope.enumerate_integral_points(qhull(V))\n",
    "integral_points = integral_points.transpose()\n",
    "integral_points = integral_points.astype(int)\n",
    "\n",
    "print(\"integral_points: {0}\".format(integral_points.tolist()))\n",
    "print(\"distance vector: {0}\".format(compute_distances(V)))\n",
    "print(\"fitness: {0}\".format(calc_fitness(V)))"
   ]
  }
 ],
 "metadata": {
  "kernelspec": {
   "display_name": "base",
   "language": "python",
   "name": "python3"
  },
  "language_info": {
   "codemirror_mode": {
    "name": "ipython",
    "version": 3
   },
   "file_extension": ".py",
   "mimetype": "text/x-python",
   "name": "python",
   "nbconvert_exporter": "python",
   "pygments_lexer": "ipython3",
   "version": "3.11.6"
  },
  "orig_nbformat": 4
 },
 "nbformat": 4,
 "nbformat_minor": 2
}

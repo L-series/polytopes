{
 "cells": [
  {
   "cell_type": "code",
   "execution_count": 2,
   "metadata": {},
   "outputs": [],
   "source": [
    "# pip install polytope\n",
    "# pip install pypoman\n",
    "\n",
    "import numpy as np\n",
    "from sympy.geometry import Point\n",
    "import matplotlib.pyplot as plt\n",
    "from pypoman import compute_polytope_halfspaces\n",
    "import polytope\n",
    "from scipy.spatial import ConvexHull"
   ]
  },
  {
   "cell_type": "markdown",
   "metadata": {},
   "source": [
    "First we implement fundamental functions (matrix operations, linear akgebra methods, etc.)."
   ]
  },
  {
   "cell_type": "code",
   "execution_count": 3,
   "metadata": {},
   "outputs": [],
   "source": [
    "def setdiff2d_iter(arr1, arr2):\n",
    "    delta = set(map(tuple, arr2))\n",
    "    return np.fromiter((x for xs in arr1 if tuple(xs) not in delta for x in xs), dtype=int).reshape(-1, arr1.shape[-1])\n",
    "\n",
    "def is_linear_dependend(point_start, point_end, point_test):\n",
    "    p_start = Point(point_start)\n",
    "    p_end = Point(point_end)\n",
    "    p_test = Point(point_test)\n",
    "    return Point.is_collinear(p_start, p_end, p_test)\n",
    "\n",
    "def distance_to_origin(facet, origin):\n",
    "    #do stuff\n",
    "    return True\n",
    "    \n",
    "def is_reflexive():\n",
    "    #do stuff\n",
    "    return True"
   ]
  },
  {
   "cell_type": "markdown",
   "metadata": {},
   "source": [
    "Let's construct a reflexive 2D polytope (taken from the book \"The Calabi–Yau Landscape\", page 44)"
   ]
  },
  {
   "cell_type": "code",
   "execution_count": 4,
   "metadata": {},
   "outputs": [],
   "source": [
    "V = np.array([[0, -1], [-1, 0], [-1, 2], [1, 0], [1, -1]])\n"
   ]
  },
  {
   "cell_type": "markdown",
   "metadata": {},
   "source": [
    "Pypoman provides a form $0\\le -Ax+b$"
   ]
  },
  {
   "cell_type": "code",
   "execution_count": 5,
   "metadata": {},
   "outputs": [
    {
     "name": "stdout",
     "output_type": "stream",
     "text": [
      "[[-0. -1.]\n",
      " [-1. -0.]\n",
      " [-1. -1.]\n",
      " [ 1.  1.]\n",
      " [ 1. -0.]]\n",
      "[1. 1. 1. 1. 1.]\n"
     ]
    }
   ],
   "source": [
    "A, b = compute_polytope_halfspaces(V)\n",
    "\n",
    "print(A)\n",
    "print(b)"
   ]
  },
  {
   "cell_type": "markdown",
   "metadata": {},
   "source": [
    "Polytope provides a form $Ax\\le b$ which is equivalent to pypoman's form $0\\le-Ax+b$"
   ]
  },
  {
   "cell_type": "code",
   "execution_count": 6,
   "metadata": {},
   "outputs": [
    {
     "name": "stdout",
     "output_type": "stream",
     "text": [
      "[[ 0.70711  0.70711]\n",
      " [-1.       0.     ]\n",
      " [-0.70711 -0.70711]\n",
      " [ 1.       0.     ]\n",
      " [ 0.      -1.     ]]\n",
      "[0.70711 1.      0.70711 1.      1.     ]\n"
     ]
    }
   ],
   "source": [
    "P = polytope.qhull(V)\n",
    "\n",
    "print(P.A)\n",
    "print(P.b)\n",
    "#print(P.vertices)"
   ]
  },
  {
   "cell_type": "markdown",
   "metadata": {},
   "source": [
    "Scipy yields an array $[normal, offset]$ that describes $Ax+b\\le0$ forming the hyperplane equation of the facet see [documentation](https://docs.scipy.org/doc/scipy/reference/generated/scipy.spatial.ConvexHull.html)"
   ]
  },
  {
   "cell_type": "code",
   "execution_count": 7,
   "metadata": {},
   "outputs": [
    {
     "name": "stdout",
     "output_type": "stream",
     "text": [
      "[[-1.       0.      -1.     ]\n",
      " [ 0.70711  0.70711 -0.70711]\n",
      " [-0.70711 -0.70711 -0.70711]\n",
      " [ 1.       0.      -1.     ]\n",
      " [-0.      -1.      -1.     ]]\n"
     ]
    }
   ],
   "source": [
    "hull = ConvexHull(V)\n",
    "print(hull.equations)"
   ]
  },
  {
   "cell_type": "markdown",
   "metadata": {},
   "source": [
    "When using the negated form of pypoman's result, that is $Ax-b\\le0$ then $b$ is the distance we are looking for.\n",
    "\n",
    "The distances are defined in the hyperplane representation. The hyperplanes are given as $<u,v> \\ge a$ where $u$ are points in the polytope lattice $M, v$ is a single point in the dual lattice $N$ and $a$ is the distance which is real number. If we just get the hyperplane representation then we automatically have the distances."
   ]
  },
  {
   "cell_type": "code",
   "execution_count": 17,
   "metadata": {},
   "outputs": [
    {
     "name": "stdout",
     "output_type": "stream",
     "text": [
      "[1. 1. 1. 1. 1.]\n"
     ]
    }
   ],
   "source": [
    "A, b = compute_polytope_halfspaces(V)\n",
    "print(b)"
   ]
  },
  {
   "cell_type": "markdown",
   "metadata": {},
   "source": [
    "The fitness function consists of two parts.\n",
    "\n",
    "The first term is IP(Delta)-1, where IP(Delta) = 1 if Delta satisfies IP and 0 otherwise, adds a penalty if Delta doesn’t satisfy the IP property.\n",
    "\n",
    "The second term sum(ai-1), where ai are the hyperplane distances of each face, adds a penalty if the distances of all the hyper planes aren’t at a distance 1 from the origin."
   ]
  },
  {
   "cell_type": "code",
   "execution_count": 19,
   "metadata": {},
   "outputs": [
    {
     "name": "stdout",
     "output_type": "stream",
     "text": [
      "0.0\n"
     ]
    }
   ],
   "source": [
    "V = np.array([[0, -1], [-1, 0], [-1, 2], [1, 0], [1, -1]])\n",
    "\n",
    "A, b = compute_polytope_halfspaces(V)\n",
    "\n",
    "def fitness(ip_count, distances):\n",
    "    result = 0\n",
    "    if ip_count > 1:\n",
    "        result -= 1\n",
    "    for d in distances:\n",
    "        result -= abs(d-1)\n",
    "    return result\n",
    "\n",
    "print(fitness(1, b))"
   ]
  },
  {
   "cell_type": "markdown",
   "metadata": {},
   "source": [
    "Some experimental stuff starts here:"
   ]
  },
  {
   "cell_type": "code",
   "execution_count": 10,
   "metadata": {},
   "outputs": [],
   "source": [
    "import numpy as np\n",
    "import polytope\n",
    "\n",
    "# halfspace representation computed using `polytope`\n",
    "# from the vertex representation given in the question\n",
    "vertices = np.array([[0, -1], [-1, 0], [-1, 2], [1, 0], [1, -1]])\n",
    "poly = polytope.qhull(vertices)\n",
    "# first halfspace representation\n",
    "A = np.array([\n",
    "    [0, -1],\n",
    "    [-1, 0],\n",
    "    [-1, -1],\n",
    "    [1, 1],\n",
    "    [1, 0]])\n",
    "b = np.array([1, 1, 1, 1, 1])\n",
    "question_poly_1 = polytope.Polytope(A, b)\n",
    "# second halfspace representation\n",
    "A = np.array([\n",
    "    [-0.70711, -0.70711],\n",
    "    [-1, -0],\n",
    "    [0.70711, 0.70711],\n",
    "    [0, -1],\n",
    "    [1, 0]])\n",
    "b = np.array([0.70711, 1, 0.70711, 1, 1])\n",
    "\n",
    "question_poly_2 = polytope.Polytope(A, b)\n",
    "# check that all the above halfspace representations\n",
    "# represent the same polytope\n",
    "assert poly == question_poly_1, (poly, question_poly_1)\n",
    "assert poly == question_poly_2, (poly, question_poly_2)"
   ]
  },
  {
   "cell_type": "code",
   "execution_count": 11,
   "metadata": {},
   "outputs": [
    {
     "name": "stdout",
     "output_type": "stream",
     "text": [
      "[[0 0]]\n"
     ]
    }
   ],
   "source": [
    "# check later wether we can adjust \"enumerate_integral_points\" such\n",
    "# that it returns only points that lie within the polytope, i.e. we\n",
    "# want to exclude points that lie on a facet\n",
    "integral_points = polytope.polytope.enumerate_integral_points(P)\n",
    "\n",
    "integral_points = integral_points.transpose()\n",
    "integral_points = integral_points.astype(int)\n",
    "\n",
    "# remove the original corner points\n",
    "integral_points = setdiff2d_iter(integral_points, V)\n",
    "\n",
    "# remove points located on a polygon facet\n",
    "num_v_points = V.shape[0]\n",
    "for v_point_idx in range(0, num_v_points - 1):\n",
    "    point_start = V[v_point_idx]\n",
    "    point_end = V[v_point_idx+1]\n",
    "\n",
    "    num_i_points = integral_points.shape[0]\n",
    "    for i_point_idx in range(0, num_i_points):\n",
    "        if is_linear_dependend(point_start, point_end, integral_points[i_point_idx]):\n",
    "            integral_points = np.delete(integral_points, i_point_idx, axis=0)\n",
    "            break\n",
    "\n",
    "print(integral_points)\n"
   ]
  },
  {
   "cell_type": "code",
   "execution_count": 12,
   "metadata": {},
   "outputs": [
    {
     "name": "stdout",
     "output_type": "stream",
     "text": [
      "[-0.70711]\n",
      "[-0.70711]\n",
      "[-1.]\n"
     ]
    }
   ],
   "source": [
    "inner_point = np.array([0,0]) # in this case it is the origin\n",
    "fac1 = polytope.quickhull.Facet([[0, -1], [-1, 0]])\n",
    "fac2 = polytope.quickhull.Facet([[-1, 2], [1, 0]])\n",
    "fac3 = polytope.quickhull.Facet([[1, -1], [0, -1]])\n",
    "\n",
    "d1 = polytope.quickhull.distance(inner_point, fac1)\n",
    "d2 = polytope.quickhull.distance(inner_point, fac2)\n",
    "d3 = polytope.quickhull.distance(inner_point, fac3)\n",
    "print(d1)\n",
    "print(d2)\n",
    "print(d3)"
   ]
  },
  {
   "cell_type": "markdown",
   "metadata": {},
   "source": [
    "Let's visualize our 2D polytope. For this purpose we use the [Polytope Library](https://github.com/tulip-control/polytope)"
   ]
  },
  {
   "cell_type": "code",
   "execution_count": 13,
   "metadata": {},
   "outputs": [
    {
     "name": "stdout",
     "output_type": "stream",
     "text": [
      "(0.7071067811865475, array([0., 0.]))\n"
     ]
    },
    {
     "data": {
      "image/png": "[encoded data removed]",
      "text/plain": [
       "<Figure size 640x480 with 1 Axes>"
      ]
     },
     "metadata": {},
     "output_type": "display_data"
    }
   ],
   "source": [
    "\n",
    "print(polytope.polytope.cheby_ball(P))\n",
    "\n",
    "min_V = np.min(V, axis=0) #min val of each cols\n",
    "min_x = min_V[0]\n",
    "min_y = min_V[1]\n",
    "max_V = np.max(V, axis=0) #max val of each cols\n",
    "max_x = max_V[0]\n",
    "max_y = max_V[1]\n",
    "\n",
    "ax = P.plot(linestyle=\"solid\", linewidth=1, color=\"lightblue\", edgecolor=\"red\")\n",
    "ax.set_xlim([min_x-1, max_x+1])\n",
    "ax.set_ylim([min_y-1, max_y+1])\n",
    "plt.show()"
   ]
  }
 ],
 "metadata": {
  "kernelspec": {
   "display_name": "base",
   "language": "python",
   "name": "python3"
  },
  "language_info": {
   "codemirror_mode": {
    "name": "ipython",
    "version": 3
   },
   "file_extension": ".py",
   "mimetype": "text/x-python",
   "name": "python",
   "nbconvert_exporter": "python",
   "pygments_lexer": "ipython3",
   "version": "3.11.5"
  },
  "orig_nbformat": 4
 },
 "nbformat": 4,
 "nbformat_minor": 2
}

{
 "cells": [
  {
   "cell_type": "code",
   "execution_count": 2,
   "metadata": {},
   "outputs": [],
   "source": [
    "import numpy as np\n",
    "import matplotlib.pyplot as plt\n",
    "import polytope"
   ]
  },
  {
   "cell_type": "markdown",
   "metadata": {},
   "source": [
    "First we implement fundamental functions (matrix operations, linear akgebra methods, etc.)."
   ]
  },
  {
   "cell_type": "code",
   "execution_count": 15,
   "metadata": {},
   "outputs": [],
   "source": [
    "def distance_to_origin(facet, origin):\n",
    "    #do stuff\n",
    "    return True\n",
    "    \n",
    "def is_reflexive():\n",
    "    #do stuff\n",
    "    return True"
   ]
  },
  {
   "cell_type": "markdown",
   "metadata": {},
   "source": [
    "Let's construct a reflexive 2D polytope (taken from the book \"The Calabi–Yau Landscape\", page 44)"
   ]
  },
  {
   "cell_type": "code",
   "execution_count": 10,
   "metadata": {},
   "outputs": [],
   "source": [
    "V = np.array([[0, -1], [-1, 0], [-1, 2], [1, 0], [1, -1]])"
   ]
  },
  {
   "cell_type": "markdown",
   "metadata": {},
   "source": [
    "Let's visualize our 2D polytope. For this purpose we use the [Polytope Library](https://github.com/tulip-control/polytope)"
   ]
  },
  {
   "cell_type": "code",
   "execution_count": 14,
   "metadata": {},
   "outputs": [
    {
     "name": "stdout",
     "output_type": "stream",
     "text": [
      "[[ 0 -1]\n",
      " [-1  0]\n",
      " [-1  2]\n",
      " [ 1  0]\n",
      " [ 1 -1]]\n",
      "Computed the convex hull:\n",
      "Single polytope \n",
      "  [[-1.      -0.     ] |    [[1.     ]\n",
      "   [-0.70711 -0.70711] |     [0.70711]\n",
      "   [ 0.      -1.     ] x <=  [1.     ]\n",
      "   [ 0.70711  0.70711] |     [0.70711]\n",
      "   [ 1.      -0.     ]]|     [1.     ]]\n",
      "\n",
      "which has extreme points:\n",
      "[[-1.  0.]\n",
      " [-1.  2.]\n",
      " [ 0. -1.]\n",
      " [ 1. -1.]\n",
      " [ 1.  0.]]\n"
     ]
    },
    {
     "data": {
      "image/png": "[encoded data removed]",
      "text/plain": [
       "<Figure size 640x480 with 1 Axes>"
      ]
     },
     "metadata": {},
     "output_type": "display_data"
    }
   ],
   "source": [
    "print(V)\n",
    "\n",
    "P = polytope.qhull(V)\n",
    "print(\"Computed the convex hull:\")\n",
    "print(P)\n",
    "\n",
    "V_min = polytope.extreme(P)\n",
    "print(\"which has extreme points:\")\n",
    "print(V_min)\n",
    "\n",
    "ax = P.plot(linestyle=\"solid\", linewidth=1, edgecolor=\"red\")\n",
    "ax.set_xlim([-4, 4])\n",
    "ax.set_ylim([-4, 4])\n",
    "plt.show()"
   ]
  }
 ],
 "metadata": {
  "kernelspec": {
   "display_name": "base",
   "language": "python",
   "name": "python3"
  },
  "language_info": {
   "codemirror_mode": {
    "name": "ipython",
    "version": 3
   },
   "file_extension": ".py",
   "mimetype": "text/x-python",
   "name": "python",
   "nbconvert_exporter": "python",
   "pygments_lexer": "ipython3",
   "version": "3.9.12"
  },
  "orig_nbformat": 4
 },
 "nbformat": 4,
 "nbformat_minor": 2
}

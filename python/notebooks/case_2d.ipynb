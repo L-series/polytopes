{
 "cells": [
  {
   "cell_type": "code",
   "execution_count": 1,
   "metadata": {},
   "outputs": [],
   "source": [
    "# pip install polytope\n",
    "# pip install pypoman\n",
    "\n",
    "import math\n",
    "import numpy as np\n",
    "from sympy.geometry import Point\n",
    "from pypoman import compute_polytope_halfspaces, compute_polytope_vertices\n",
    "from pypoman.duality import convex_hull\n",
    "from polytope import polytope\n",
    "from polytope.polytope import enumerate_integral_points, qhull, box2poly, cheby_ball\n",
    "from scipy.spatial import ConvexHull"
   ]
  },
  {
   "cell_type": "markdown",
   "metadata": {},
   "source": [
    "Let's construct a reflexive 2D polytope (taken from the book \"The Calabi–Yau Landscape\", page 44)"
   ]
  },
  {
   "cell_type": "code",
   "execution_count": 2,
   "metadata": {},
   "outputs": [],
   "source": [
    "V = np.array([[0, -1], [-1, 0], [-1, 2], [1, 0], [1, -1]])"
   ]
  },
  {
   "cell_type": "markdown",
   "metadata": {},
   "source": [
    "Pypoman provides a form $0\\le -Ax+b$"
   ]
  },
  {
   "cell_type": "code",
   "execution_count": 3,
   "metadata": {},
   "outputs": [
    {
     "name": "stdout",
     "output_type": "stream",
     "text": [
      "[[-0. -1.]\n",
      " [-1. -0.]\n",
      " [-1. -1.]\n",
      " [ 1.  1.]\n",
      " [ 1. -0.]]\n",
      "[1. 1. 1. 1. 1.]\n",
      "[array([-1.,  2.]), array([1., 0.]), array([ 1., -1.]), array([ 0., -1.]), array([-1.,  0.])]\n",
      "[array([-1,  2]), array([-1,  0]), array([ 0, -1]), array([ 1, -1]), array([1, 0])]\n"
     ]
    }
   ],
   "source": [
    "A, b = compute_polytope_halfspaces(V)\n",
    "\n",
    "print(A)\n",
    "print(b)\n",
    "\n",
    "print(compute_polytope_vertices(A, b))\n",
    "print(convex_hull(V))"
   ]
  },
  {
   "cell_type": "markdown",
   "metadata": {},
   "source": [
    "Polytope provides a form $Ax\\le b$ which is equivalent to pypoman's form $0\\le-Ax+b$"
   ]
  },
  {
   "cell_type": "code",
   "execution_count": 4,
   "metadata": {},
   "outputs": [
    {
     "name": "stdout",
     "output_type": "stream",
     "text": [
      "[[-1.       0.     ]\n",
      " [ 1.      -0.     ]\n",
      " [ 0.70711  0.70711]\n",
      " [-0.70711 -0.70711]\n",
      " [ 0.      -1.     ]]\n",
      "[1.      1.      0.70711 0.70711 1.     ]\n",
      "(0.7071067811865475, array([0., 0.]))\n"
     ]
    }
   ],
   "source": [
    "P = qhull(V)\n",
    "\n",
    "print(P.A)\n",
    "print(P.b)\n",
    "print(cheby_ball(P))\n",
    "#print(P.vertices)"
   ]
  },
  {
   "cell_type": "markdown",
   "metadata": {},
   "source": [
    "Scipy yields an array $[normal, offset]$ that describes $Ax+b\\le0$ forming the hyperplane equation of the facet see [documentation](https://docs.scipy.org/doc/scipy/reference/generated/scipy.spatial.ConvexHull.html)"
   ]
  },
  {
   "cell_type": "code",
   "execution_count": 5,
   "metadata": {},
   "outputs": [
    {
     "name": "stdout",
     "output_type": "stream",
     "text": [
      "[[-1.       0.      -1.     ]\n",
      " [ 0.70711  0.70711 -0.70711]\n",
      " [-0.70711 -0.70711 -0.70711]\n",
      " [ 1.       0.      -1.     ]\n",
      " [-0.      -1.      -1.     ]]\n"
     ]
    }
   ],
   "source": [
    "hull = ConvexHull(V)\n",
    "print(hull.equations)"
   ]
  },
  {
   "cell_type": "markdown",
   "metadata": {},
   "source": [
    "When using the negated form of pypoman's result, that is $Ax-b\\le0$ then $b$ is the distance we are looking for.\n",
    "\n",
    "The distances are defined in the hyperplane representation. The hyperplanes are given as $<u,v> \\ge a$ where $u$ are points in the polytope lattice $M, v$ is a single point in the dual lattice $N$ and $a$ is the distance which is real number. If we just get the hyperplane representation then we automatically have the distances."
   ]
  },
  {
   "cell_type": "code",
   "execution_count": 6,
   "metadata": {},
   "outputs": [
    {
     "name": "stdout",
     "output_type": "stream",
     "text": [
      "[1. 1. 1. 1. 1.]\n"
     ]
    }
   ],
   "source": [
    "A, b = compute_polytope_halfspaces(V)\n",
    "print(b)"
   ]
  },
  {
   "cell_type": "markdown",
   "metadata": {},
   "source": [
    "Count integral points using polytope library.\n",
    "An interesting reference is also [Effective lattice point counting in rational convex polytopes](https://www.sciencedirect.com/science/article/pii/S0747717104000422?via%3Dihub)"
   ]
  },
  {
   "cell_type": "code",
   "execution_count": 7,
   "metadata": {},
   "outputs": [
    {
     "name": "stdout",
     "output_type": "stream",
     "text": [
      "[[ 0 -1]\n",
      " [ 1 -1]\n",
      " [-1  0]\n",
      " [ 0  0]\n",
      " [ 1  0]\n",
      " [-1  1]\n",
      " [ 0  1]\n",
      " [-1  2]]\n"
     ]
    }
   ],
   "source": [
    "V = np.array([[0, -1], [-1, 0], [-1, 2], [1, 0], [1, -1]])\n",
    "poly_qhull = qhull(V)\n",
    "integral_points = enumerate_integral_points(poly_qhull)\n",
    "integral_points = integral_points.transpose()\n",
    "integral_points = integral_points.astype(int)\n",
    "print(integral_points)"
   ]
  },
  {
   "cell_type": "markdown",
   "metadata": {},
   "source": [
    "The fitness function consists of two parts.\n",
    "\n",
    "The first term is IP(Delta)-1, where IP(Delta) = 1 if Delta satisfies IP and 0 otherwise, adds a penalty if Delta doesn’t satisfy the IP property.\n",
    "\n",
    "The second term sum(ai-1), where ai are the hyperplane distances of each face, adds a penalty if the distances of all the hyper planes aren’t at a distance 1 from the origin.\n",
    "\n",
    "Note: Ensure that when you generate polytopes that you choose its points around the origin! Otherwise you have to translate the polytope such that its origin or one of its interior points becomes $(0,0,0,\\ldots)$."
   ]
  },
  {
   "cell_type": "code",
   "execution_count": 8,
   "metadata": {},
   "outputs": [
    {
     "name": "stdout",
     "output_type": "stream",
     "text": [
      "integral_points: [[1, -1, 0, 2, 0], [-2, 0, 1, 0, -1], [0, 0, 0, 0, 0], [0, 0, 0, 2, -1], [1, 0, 0, -1, 0], [1, 0, 1, -1, 2], [-1, 1, -1, -2, 0]]\n",
      "stricktly_integral_points: [[0, 0, 0, 0, 0]]\n",
      "b: [1. 1. 1. 1. 1. 1.]\n",
      "fitness value: 0.0\n"
     ]
    }
   ],
   "source": [
    "#\n",
    "# 2D Example\n",
    "#\n",
    "#V = np.array([[0, -1], [-1, 0], [-1, 2], [1, 0], [1, -1]])\n",
    "\n",
    "#\n",
    "# 3D Example\n",
    "#\n",
    "#good cube: its origin is (1,1,1)\n",
    "#V = np.array([[0,0,0], [2,0,0], [2,2,0], [0,2,0], [0,2,2], [2,2,2], [2,0,2], [0,0,2]])\n",
    "\n",
    "#good cube: its origin is (0,0,0)\n",
    "#V = np.array([[-1,-1,-1], [1,-1,-1], [1,1,-1], [-1,1,-1], [-1,1,1], [1,1,1], [1,-1,1], [-1,-1,1]])\n",
    "\n",
    "#\n",
    "# 5D Example\n",
    "#\n",
    "#V = np.array([[-1,0,1,1,-1], [0,1,-1,-1,1], [0,-3,-1,1,0], [-1,0,0,-1,0], [-1,1,-1,-1,1], [0,-1,1,1,0], [0,0,0,-1,0]])\n",
    "V = np.array([[-2,0,1,0,-1], [1,0,1,-1,2], [-1,1,-1,-2,0], [1,-1,0,2,0], [1,0,0,-1,0], [0,0,0,2,-1]])\n",
    "\n",
    "A, b = compute_polytope_halfspaces(V)\n",
    "\n",
    "poly_qhull = qhull(V)\n",
    "\n",
    "def grid_region(polyreg, res=None):\n",
    "    # grid corners\n",
    "    bbox = polyreg.bounding_box\n",
    "    # grid resolution\n",
    "    if res is None:\n",
    "        density = 8\n",
    "        res = [\n",
    "            math.ceil(density * (b - a))\n",
    "            for a, b in zip(*bbox)]\n",
    "    if len(res) != polyreg.dim:\n",
    "        raise ValueError((\n",
    "            \"`len(res)` must equal the polytope's dimension \"\n",
    "            \"(which is {dim}), but instead `res` is:  {res}\"\n",
    "            ).format(dim=polyreg.dim, res=res))\n",
    "    if any(n < 1 for n in res):\n",
    "        raise ValueError((\n",
    "            '`res` must contain `int` values >= 1, '\n",
    "            'instead `res` equals:  {res}'\n",
    "            ).format(res=res))\n",
    "    linspaces = list()\n",
    "    for a, b, n in zip(*bbox, res):\n",
    "        r = np.linspace(a, b, num=n)\n",
    "        linspaces.append(r)\n",
    "    points = np.meshgrid(*linspaces)\n",
    "    x = np.vstack(list(map(np.ravel, points)))\n",
    "    x = x[:, polyreg.contains(x, abs_tol=0)]\n",
    "    return (x, res)\n",
    "\n",
    "def enumerate_stricktly_integral_points(poly):\n",
    "    a, b = poly.bounding_box\n",
    "    a_int = np.floor(a)\n",
    "    b_int = np.ceil(b)\n",
    "    intervals = list(zip(a_int.flatten(), b_int.flatten()))\n",
    "    box = box2poly(intervals)\n",
    "    res = [int(b - a + 1) for a, b in intervals]\n",
    "    grid, _ = grid_region(box, res=res)\n",
    "    inside = poly.contains(grid, abs_tol=0)\n",
    "    return grid[:, inside]\n",
    "\n",
    "integral_points = enumerate_integral_points(poly_qhull)\n",
    "integral_points = integral_points.transpose()\n",
    "integral_points = integral_points.astype(int)\n",
    "\n",
    "stricktly_integral_points = enumerate_stricktly_integral_points(poly_qhull)\n",
    "stricktly_integral_points = stricktly_integral_points.transpose()\n",
    "stricktly_integral_points = stricktly_integral_points.astype(int)\n",
    "num_stricktly_integral_points = len(stricktly_integral_points)\n",
    "\n",
    "print(\"integral_points: {0}\".format(integral_points.tolist()))\n",
    "print(\"stricktly_integral_points: {0}\".format(stricktly_integral_points.tolist()))\n",
    "print(\"b: {0}\".format(b))\n",
    "\n",
    "def fitness(ip_count, distances):\n",
    "    result = 0\n",
    "    if ip_count > 1:\n",
    "        result -= 1\n",
    "    for d in distances:\n",
    "        result -= abs(d-1)\n",
    "    return result\n",
    "\n",
    "print(\"fitness value: {0}\".format(fitness(num_stricktly_integral_points, b)))"
   ]
  },
  {
   "cell_type": "markdown",
   "metadata": {},
   "source": [
    "Some experimental stuff starts here:"
   ]
  },
  {
   "cell_type": "code",
   "execution_count": 9,
   "metadata": {},
   "outputs": [],
   "source": [
    "import numpy as np\n",
    "import polytope\n",
    "\n",
    "# halfspace representation computed using `polytope`\n",
    "# from the vertex representation given in the question\n",
    "vertices = np.array([[0, -1], [-1, 0], [-1, 2], [1, 0], [1, -1]])\n",
    "poly = polytope.qhull(vertices)\n",
    "# first halfspace representation\n",
    "A = np.array([\n",
    "    [0, -1],\n",
    "    [-1, 0],\n",
    "    [-1, -1],\n",
    "    [1, 1],\n",
    "    [1, 0]])\n",
    "b = np.array([1, 1, 1, 1, 1])\n",
    "question_poly_1 = polytope.Polytope(A, b)\n",
    "# second halfspace representation\n",
    "A = np.array([\n",
    "    [-0.70711, -0.70711],\n",
    "    [-1, -0],\n",
    "    [0.70711, 0.70711],\n",
    "    [0, -1],\n",
    "    [1, 0]])\n",
    "b = np.array([0.70711, 1, 0.70711, 1, 1])\n",
    "\n",
    "question_poly_2 = polytope.Polytope(A, b)\n",
    "# check that all the above halfspace representations\n",
    "# represent the same polytope\n",
    "assert poly == question_poly_1, (poly, question_poly_1)\n",
    "assert poly == question_poly_2, (poly, question_poly_2)"
   ]
  },
  {
   "cell_type": "code",
   "execution_count": 10,
   "metadata": {},
   "outputs": [
    {
     "name": "stdout",
     "output_type": "stream",
     "text": [
      "[-0.70711]\n",
      "[-0.70711]\n",
      "[-1.]\n"
     ]
    }
   ],
   "source": [
    "inner_point = np.array([0,0]) # in this case it is the origin\n",
    "fac1 = polytope.quickhull.Facet([[0, -1], [-1, 0]])\n",
    "fac2 = polytope.quickhull.Facet([[-1, 2], [1, 0]])\n",
    "fac3 = polytope.quickhull.Facet([[1, -1], [0, -1]])\n",
    "\n",
    "d1 = polytope.quickhull.distance(inner_point, fac1)\n",
    "d2 = polytope.quickhull.distance(inner_point, fac2)\n",
    "d3 = polytope.quickhull.distance(inner_point, fac3)\n",
    "print(d1)\n",
    "print(d2)\n",
    "print(d3)"
   ]
  }
 ],
 "metadata": {
  "kernelspec": {
   "display_name": "base",
   "language": "python",
   "name": "python3"
  },
  "language_info": {
   "codemirror_mode": {
    "name": "ipython",
    "version": 3
   },
   "file_extension": ".py",
   "mimetype": "text/x-python",
   "name": "python",
   "nbconvert_exporter": "python",
   "pygments_lexer": "ipython3",
   "version": "3.11.6"
  },
  "orig_nbformat": 4
 },
 "nbformat": 4,
 "nbformat_minor": 2
}

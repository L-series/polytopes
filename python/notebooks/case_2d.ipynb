{
 "cells": [
  {
   "cell_type": "code",
   "execution_count": 33,
   "metadata": {},
   "outputs": [],
   "source": [
    "# install Microsoft Build Tools für C++\n",
    "# https://visualstudio.microsoft.com/de/visual-cpp-build-tools/\n",
    "\n",
    "# install Visual Studio Community 2022\n",
    "# https://visualstudio.microsoft.com/de/\n",
    "\n",
    "# pip3 install cytools\n",
    "# conda install -c conda-forge python-flint\n",
    "# pip3 install Cython --no-cache-dir --force-reinstall\n",
    "# pip3 install pplpy --no-cache-dir --force-reinstall\n",
    "# from cytools import Polytope\n",
    "\n",
    "import numpy as np\n",
    "np.random.seed(1234)\n",
    "\n",
    "import matplotlib.pyplot as plt\n",
    "from matplotlib.lines import Line2D  \n",
    "\n",
    "plt.rcParams.update(\n",
    "    {\n",
    "        \"figure.figsize\":(8, 8),\n",
    "        \"font.size\":16,\n",
    "    }\n",
    ")"
   ]
  },
  {
   "cell_type": "code",
   "execution_count": 3,
   "metadata": {},
   "outputs": [],
   "source": [
    "def sample_lattice(generator_matrix, coefficient_sampler, filter_func, n_draws):\n",
    "    pts = set()\n",
    "    for i in range(n_draws):\n",
    "        n_i = coefficient_sampler()\n",
    "        lat_pt = np.dot(generator_matrix, n_i)\n",
    "        if filter_func(lat_pt):\n",
    "            pts.add(tuple(lat_pt))\n",
    "    return np.array(list(pts))"
   ]
  },
  {
   "cell_type": "code",
   "execution_count": null,
   "metadata": {},
   "outputs": [],
   "source": [
    "#See https://arxiv.org/pdf/2211.03823.pdf\n",
    "#Build the polytope\n",
    "vertices = [[1,0,0,0],[0,1,0,0],[0,0,1,0],[0,0,0,1],[-1,-1,-6,-9]]\n",
    "p = Polytope(vertices)\n",
    "print(p)"
   ]
  },
  {
   "cell_type": "code",
   "execution_count": null,
   "metadata": {},
   "outputs": [],
   "source": [
    "#Reflexive Polytopes: https://www.mdpi.com/2073-8994/7/3/1633"
   ]
  },
  {
   "cell_type": "code",
   "execution_count": 37,
   "metadata": {},
   "outputs": [
    {
     "name": "stdout",
     "output_type": "stream",
     "text": [
      "[[-1 -1]\n",
      " [ 0  0]\n",
      " [ 0  1]\n",
      " [ 1  0]\n",
      " [-1 -1]]\n"
     ]
    }
   ],
   "source": [
    "#https://www2.mathematik.tu-darmstadt.de/~paffenholz/daten/preprints/20201007_Lattice_Polytopes.pdf\n",
    "#visualize them\n",
    "\n",
    "# obtained by p.points()\n",
    "\n",
    "lattice_points_4d = np.array([\n",
    "    [ 0, 0, 0, 0],\n",
    "    [-1, -1, -6, -9],\n",
    "    [ 0, 0, 0, 1],\n",
    "    [ 0, 0, 1, 0],\n",
    "    [ 0, 1, 0, 0],\n",
    "    [ 1, 0, 0, 0],\n",
    "    [ 0, 0, -2, -3],\n",
    "    [ 0, 0, -1, -2],\n",
    "    [ 0, 0, -1, -1],\n",
    "    [ 0, 0, 0, -1]])\n",
    "\n",
    "n_points = lattice_points_4d.shape[0]\n",
    "dim = lattice_points_4d.shape[1]\n",
    "\n",
    "lattice_points_2d = lattice_points_4d[0:n_points, 0:2]\n",
    "\n",
    "new_array = [tuple(row) for row in lattice_points_2d]\n",
    "uniques = np.unique(new_array, axis=0)\n",
    "\n",
    "uniques = np.vstack([uniques, uniques[0]])\n",
    "print(uniques)\n"
   ]
  },
  {
   "cell_type": "code",
   "execution_count": 38,
   "metadata": {},
   "outputs": [
    {
     "data": {
      "image/png": "[encoded data removed]",
      "text/plain": [
       "<Figure size 576x576 with 1 Axes>"
      ]
     },
     "metadata": {
      "needs_background": "light"
     },
     "output_type": "display_data"
    }
   ],
   "source": [
    "z2_generator = np.eye(2).astype(int)\n",
    "\n",
    "pts_z2 = sample_lattice(\n",
    "    z2_generator,\n",
    "    coefficient_sampler = lambda : np.random.randint(-3, 3+1, (2,)),\n",
    "    filter_func = lambda x: True,\n",
    "    n_draws=1000\n",
    ")\n",
    "\n",
    "fig = plt.figure()\n",
    "ax = fig.add_subplot(111)\n",
    "ax.scatter(pts_z2[:, 0], pts_z2[:, 1], alpha=0.8, s=80)\n",
    "\n",
    "x = uniques[:, 0]\n",
    "y = uniques[:, 1]\n",
    "\n",
    "line = Line2D(x, y)\n",
    "ax.add_line(line)\n",
    "\n",
    "plt.show()"
   ]
  }
 ],
 "metadata": {
  "kernelspec": {
   "display_name": "base",
   "language": "python",
   "name": "python3"
  },
  "language_info": {
   "codemirror_mode": {
    "name": "ipython",
    "version": 3
   },
   "file_extension": ".py",
   "mimetype": "text/x-python",
   "name": "python",
   "nbconvert_exporter": "python",
   "pygments_lexer": "ipython3",
   "version": "3.9.7"
  },
  "orig_nbformat": 4
 },
 "nbformat": 4,
 "nbformat_minor": 2
}

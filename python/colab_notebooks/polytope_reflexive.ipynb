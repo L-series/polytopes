{
  "nbformat": 4,
  "nbformat_minor": 0,
  "metadata": {
    "colab": {
      "provenance": []
    },
    "kernelspec": {
      "name": "python3",
      "display_name": "Python 3"
    },
    "language_info": {
      "name": "python"
    }
  },
  "cells": [
    {
      "cell_type": "markdown",
      "source": [
        "Check whether polytopes are reflexive"
      ],
      "metadata": {
        "id": "IlOLAoGW2C6l"
      }
    },
    {
      "cell_type": "code",
      "source": [
        "#!sudo apt update && sudo apt full-upgrade\n",
        "#!sudo do-release-upgrade\n",
        "#!sudo apt install python3-pip\n",
        "\n",
        "!apt install libppl-dev\n",
        "!apt install libmpfr-dev\n",
        "!apt install libmpc-dev\n",
        "!apt install libflint-dev\n",
        "!apt install palp"
      ],
      "metadata": {
        "colab": {
          "base_uri": "https://localhost:8080/"
        },
        "id": "tchVs5lr95Pt",
        "outputId": "9760381f-9d1b-4ea4-c659-b8e7da030aed"
      },
      "execution_count": 1,
      "outputs": [
        {
          "output_type": "stream",
          "name": "stdout",
          "text": [
            "Reading package lists... Done\n",
            "Building dependency tree... Done\n",
            "Reading state information... Done\n",
            "libppl-dev is already the newest version (1:1.2-8.1build1).\n",
            "0 upgraded, 0 newly installed, 0 to remove and 40 not upgraded.\n",
            "Reading package lists... Done\n",
            "Building dependency tree... Done\n",
            "Reading state information... Done\n",
            "libmpfr-dev is already the newest version (4.1.0-3build3).\n",
            "0 upgraded, 0 newly installed, 0 to remove and 40 not upgraded.\n",
            "Reading package lists... Done\n",
            "Building dependency tree... Done\n",
            "Reading state information... Done\n",
            "libmpc-dev is already the newest version (1.2.1-2build1).\n",
            "0 upgraded, 0 newly installed, 0 to remove and 40 not upgraded.\n",
            "Reading package lists... Done\n",
            "Building dependency tree... Done\n",
            "Reading state information... Done\n",
            "libflint-dev is already the newest version (2.8.4-2build1).\n",
            "0 upgraded, 0 newly installed, 0 to remove and 40 not upgraded.\n",
            "Reading package lists... Done\n",
            "Building dependency tree... Done\n",
            "Reading state information... Done\n",
            "palp is already the newest version (2.20-2).\n",
            "0 upgraded, 0 newly installed, 0 to remove and 40 not upgraded.\n"
          ]
        }
      ]
    },
    {
      "cell_type": "code",
      "source": [
        "!python3 --version"
      ],
      "metadata": {
        "colab": {
          "base_uri": "https://localhost:8080/"
        },
        "id": "HaxSGSGx9053",
        "outputId": "8a685531-1d58-4b99-d8e2-b6d095be6bd6"
      },
      "execution_count": 2,
      "outputs": [
        {
          "output_type": "stream",
          "name": "stdout",
          "text": [
            "Python 3.10.12\n"
          ]
        }
      ]
    },
    {
      "cell_type": "code",
      "source": [
        "!pip install gmpy2 sympy tqdm python-flint ortools pandas qpsolvers\n",
        "!pip install cysignals\n",
        "!pip install pplpy\n",
        "!pip install scipy\n",
        "!pip install cytools"
      ],
      "metadata": {
        "colab": {
          "base_uri": "https://localhost:8080/"
        },
        "id": "K0fMn8zI3JJx",
        "outputId": "796a58c9-8e5e-4cda-874b-140538f94031"
      },
      "execution_count": 3,
      "outputs": [
        {
          "output_type": "stream",
          "name": "stdout",
          "text": [
            "Requirement already satisfied: gmpy2 in /usr/local/lib/python3.10/dist-packages (2.1.5)\n",
            "Requirement already satisfied: sympy in /usr/local/lib/python3.10/dist-packages (1.12)\n",
            "Requirement already satisfied: tqdm in /usr/local/lib/python3.10/dist-packages (4.66.1)\n",
            "Requirement already satisfied: python-flint in /usr/local/lib/python3.10/dist-packages (0.5.0)\n",
            "Requirement already satisfied: ortools in /usr/local/lib/python3.10/dist-packages (9.8.3296)\n",
            "Requirement already satisfied: pandas in /usr/local/lib/python3.10/dist-packages (2.1.4)\n",
            "Requirement already satisfied: qpsolvers in /usr/local/lib/python3.10/dist-packages (4.2.0)\n",
            "Requirement already satisfied: mpmath>=0.19 in /usr/local/lib/python3.10/dist-packages (from sympy) (1.3.0)\n",
            "Requirement already satisfied: absl-py>=2.0.0 in /usr/local/lib/python3.10/dist-packages (from ortools) (2.0.0)\n",
            "Requirement already satisfied: numpy>=1.13.3 in /usr/local/lib/python3.10/dist-packages (from ortools) (1.23.5)\n",
            "Requirement already satisfied: protobuf>=4.25.0 in /usr/local/lib/python3.10/dist-packages (from ortools) (4.25.1)\n",
            "Requirement already satisfied: python-dateutil>=2.8.2 in /usr/local/lib/python3.10/dist-packages (from pandas) (2.8.2)\n",
            "Requirement already satisfied: pytz>=2020.1 in /usr/local/lib/python3.10/dist-packages (from pandas) (2023.3.post1)\n",
            "Requirement already satisfied: tzdata>=2022.1 in /usr/local/lib/python3.10/dist-packages (from pandas) (2023.3)\n",
            "Requirement already satisfied: daqp>=0.5.1 in /usr/local/lib/python3.10/dist-packages (from qpsolvers) (0.5.1)\n",
            "Requirement already satisfied: ecos>=2.0.8 in /usr/local/lib/python3.10/dist-packages (from qpsolvers) (2.0.12)\n",
            "Requirement already satisfied: osqp>=0.6.2 in /usr/local/lib/python3.10/dist-packages (from qpsolvers) (0.6.2.post8)\n",
            "Requirement already satisfied: scipy>=1.2.0 in /usr/local/lib/python3.10/dist-packages (from qpsolvers) (1.11.4)\n",
            "Requirement already satisfied: scs>=3.2.0 in /usr/local/lib/python3.10/dist-packages (from qpsolvers) (3.2.4.post1)\n",
            "Requirement already satisfied: qdldl in /usr/local/lib/python3.10/dist-packages (from osqp>=0.6.2->qpsolvers) (0.1.7.post0)\n",
            "Requirement already satisfied: six>=1.5 in /usr/local/lib/python3.10/dist-packages (from python-dateutil>=2.8.2->pandas) (1.16.0)\n",
            "\u001b[33mWARNING: Running pip as the 'root' user can result in broken permissions and conflicting behaviour with the system package manager. It is recommended to use a virtual environment instead: https://pip.pypa.io/warnings/venv\u001b[0m\u001b[33m\n",
            "\u001b[0mRequirement already satisfied: cysignals in /usr/local/lib/python3.10/dist-packages (1.11.4)\n",
            "\u001b[33mWARNING: Running pip as the 'root' user can result in broken permissions and conflicting behaviour with the system package manager. It is recommended to use a virtual environment instead: https://pip.pypa.io/warnings/venv\u001b[0m\u001b[33m\n",
            "\u001b[0mRequirement already satisfied: pplpy in /usr/local/lib/python3.10/dist-packages (0.8.9)\n",
            "\u001b[33mWARNING: Running pip as the 'root' user can result in broken permissions and conflicting behaviour with the system package manager. It is recommended to use a virtual environment instead: https://pip.pypa.io/warnings/venv\u001b[0m\u001b[33m\n",
            "\u001b[0mRequirement already satisfied: scipy in /usr/local/lib/python3.10/dist-packages (1.11.4)\n",
            "Requirement already satisfied: numpy<1.28.0,>=1.21.6 in /usr/local/lib/python3.10/dist-packages (from scipy) (1.23.5)\n",
            "\u001b[33mWARNING: Running pip as the 'root' user can result in broken permissions and conflicting behaviour with the system package manager. It is recommended to use a virtual environment instead: https://pip.pypa.io/warnings/venv\u001b[0m\u001b[33m\n",
            "\u001b[0mRequirement already satisfied: cytools in /usr/local/lib/python3.10/dist-packages (1.0.1)\n",
            "\u001b[33mWARNING: Running pip as the 'root' user can result in broken permissions and conflicting behaviour with the system package manager. It is recommended to use a virtual environment instead: https://pip.pypa.io/warnings/venv\u001b[0m\u001b[33m\n",
            "\u001b[0m"
          ]
        }
      ]
    },
    {
      "cell_type": "code",
      "source": [
        "from cytools import Polytope"
      ],
      "metadata": {
        "colab": {
          "base_uri": "https://localhost:8080/"
        },
        "id": "BxcIUAUx2NK3",
        "outputId": "d9cd4ca2-99be-4e45-ca5e-fe80cbe66291"
      },
      "execution_count": 4,
      "outputs": [
        {
          "output_type": "stream",
          "name": "stdout",
          "text": [
            "\n",
            "Info: A more recent version of CYTools is available: v1.0.1 -> v1.0.11.\n",
            "We recommend upgrading before continuing.\n",
            "On Linux and macOS you can update CYTools by running 'cytools --update'\n",
            "and on Windows you can do this by running the updater tool.\n",
            "\n"
          ]
        }
      ]
    },
    {
      "cell_type": "code",
      "source": [
        "vertices = [[-1.,  0.,  2.],\n",
        " [ 2., -1., -2.],\n",
        " [ 1.,  0., -1.],\n",
        " [-2.,  2., -1.],\n",
        " [-1.,  2., -2.]]\n",
        "p = Polytope(vertices)\n",
        "print(p.is_reflexive())"
      ],
      "metadata": {
        "colab": {
          "base_uri": "https://localhost:8080/"
        },
        "id": "CMgq3_vy_iUF",
        "outputId": "867b120a-c6d2-40f0-ee40-566f5d068de5"
      },
      "execution_count": 5,
      "outputs": [
        {
          "output_type": "stream",
          "name": "stdout",
          "text": [
            "True\n"
          ]
        }
      ]
    },
    {
      "cell_type": "markdown",
      "source": [
        "Take some 5D polytopes from [GitHub: elliheyes/Polytope-Generation](https://github.com/elliheyes/Polytope-Generation/tree/main/Data)"
      ],
      "metadata": {
        "id": "6xNpIo4waZ6z"
      }
    },
    {
      "cell_type": "code",
      "source": [
        "vertices = [[ -1, 0, 0, 0, -1],\n",
        " [ 2, 0, 0, 2, 1],\n",
        " [ 0, 1, 0, 1, -1],\n",
        " [ 0, 0, 1, -1, 0],\n",
        " [ 1, -1, 0, -2, 1],\n",
        " [ -1, 0, 0, -1, 1],\n",
        " [ -1, -1, 1, -2, 0],\n",
        " [ 1, 0, -1, 0, 0]]\n",
        "p = Polytope(vertices)\n",
        "print(p.is_reflexive())"
      ],
      "metadata": {
        "colab": {
          "base_uri": "https://localhost:8080/"
        },
        "id": "z43OpTb9Vupc",
        "outputId": "c29a271e-9179-4bda-bf25-559154dc6174"
      },
      "execution_count": 6,
      "outputs": [
        {
          "output_type": "stream",
          "name": "stdout",
          "text": [
            "True\n"
          ]
        }
      ]
    }
  ]
}